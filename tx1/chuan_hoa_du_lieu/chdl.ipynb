{
 "cells": [
  {
   "cell_type": "code",
   "execution_count": 3,
   "id": "abfa7bdb",
   "metadata": {},
   "outputs": [
    {
     "name": "stdout",
     "output_type": "stream",
     "text": [
      "5 dòng đầu:\n",
      "   fixed acidity  volatile acidity  citric acid  residual sugar  chlorides  \\\n",
      "0           11.6             0.580         0.66            2.20      0.074   \n",
      "1           10.4             0.610         0.49            2.10      0.200   \n",
      "2            7.4             1.185         0.00            4.25      0.097   \n",
      "3           10.4             0.440         0.42            1.50      0.145   \n",
      "4            8.3             1.020         0.02            3.40      0.084   \n",
      "\n",
      "   free sulfur dioxide  total sulfur dioxide  density    pH  sulphates  \\\n",
      "0                   10                    47  1.00080  3.25       0.57   \n",
      "1                    5                    16  0.99940  3.16       0.63   \n",
      "2                    5                    14  0.99660  3.63       0.54   \n",
      "3                   34                    48  0.99832  3.38       0.86   \n",
      "4                    6                    11  0.99892  3.48       0.49   \n",
      "\n",
      "   alcohol   class  \n",
      "0      9.0  Loai 2  \n",
      "1      8.4  Loai 2  \n",
      "2     10.7  Loai 2  \n",
      "3      9.9  Loai 3  \n",
      "4     11.0  Loai 2  \n",
      "\n",
      "Tên cột:\n",
      "Index(['fixed acidity', 'volatile acidity', 'citric acid', 'residual sugar',\n",
      "       'chlorides', 'free sulfur dioxide', 'total sulfur dioxide', 'density',\n",
      "       'pH', 'sulphates', 'alcohol', 'class'],\n",
      "      dtype='object')\n"
     ]
    }
   ],
   "source": [
    "import pandas as pd\n",
    "from sklearn import preprocessing\n",
    "\n",
    "# Đọc dữ liệu wine.csv\n",
    "duLieu = pd.read_csv('Wine.csv')\n",
    "\n",
    "print(\"5 dòng đầu:\")\n",
    "print(duLieu.head())\n",
    "print(\"\\nTên cột:\")\n",
    "print(duLieu.columns)\n"
   ]
  },
  {
   "cell_type": "markdown",
   "id": "cfec379b",
   "metadata": {},
   "source": [
    "Điều chỉnh tỉ lệ (Rescale Data – MinMaxScaler)"
   ]
  },
  {
   "cell_type": "code",
   "execution_count": 4,
   "id": "237e7231",
   "metadata": {},
   "outputs": [
    {
     "name": "stdout",
     "output_type": "stream",
     "text": [
      "\n",
      "[4.1] Rescale Data (0–1):\n",
      "   fixed acidity  volatile acidity  citric acid  residual sugar  chlorides  \\\n",
      "0       0.619469          0.315068         0.66        0.089041   0.103506   \n",
      "1       0.513274          0.335616         0.49        0.082192   0.313856   \n",
      "2       0.247788          0.729452         0.00        0.229452   0.141903   \n",
      "3       0.513274          0.219178         0.42        0.041096   0.222037   \n",
      "4       0.327434          0.616438         0.02        0.171233   0.120200   \n",
      "\n",
      "   free sulfur dioxide  total sulfur dioxide   density        pH  sulphates  \\\n",
      "0             0.126761              0.144876  0.787812  0.401575   0.143713   \n",
      "1             0.056338              0.035336  0.685022  0.330709   0.179641   \n",
      "2             0.056338              0.028269  0.479442  0.700787   0.125749   \n",
      "3             0.464789              0.148410  0.605727  0.503937   0.317365   \n",
      "4             0.070423              0.017668  0.649780  0.582677   0.095808   \n",
      "\n",
      "    alcohol  \n",
      "0  0.092308  \n",
      "1  0.000000  \n",
      "2  0.353846  \n",
      "3  0.230769  \n",
      "4  0.400000  \n"
     ]
    }
   ],
   "source": [
    "from sklearn.preprocessing import MinMaxScaler\n",
    "\n",
    "X = duLieu.select_dtypes(include=['float64', 'int64'])  # chỉ lấy cột số\n",
    "\n",
    "scaler = MinMaxScaler(feature_range=(0,1))\n",
    "X_rescaled = scaler.fit_transform(X)\n",
    "\n",
    "df_rescaled = pd.DataFrame(X_rescaled, columns=X.columns)\n",
    "print(\"\\n[4.1] Rescale Data (0–1):\")\n",
    "print(df_rescaled.head())\n"
   ]
  },
  {
   "cell_type": "markdown",
   "id": "bc2e3c24",
   "metadata": {},
   "source": [
    "Chuẩn hóa dữ liệu (Standardize Data – StandardScaler)"
   ]
  },
  {
   "cell_type": "code",
   "execution_count": 5,
   "id": "af5940c5",
   "metadata": {},
   "outputs": [
    {
     "name": "stdout",
     "output_type": "stream",
     "text": [
      "\n",
      "[4.2] Standardized Data (mean≈0, std≈1):\n",
      "   fixed acidity  volatile acidity  citric acid  residual sugar  chlorides  \\\n",
      "0       1.884668          0.291499     1.997658       -0.240375  -0.286214   \n",
      "1       1.195232          0.459094     1.124700       -0.311323   2.391755   \n",
      "2      -0.528360          3.671318    -1.391472        1.214055   0.202621   \n",
      "3       1.195232         -0.490607     0.765247       -0.737010   1.222800   \n",
      "4      -0.011282          2.749549    -1.288771        0.610998  -0.073677   \n",
      "\n",
      "   free sulfur dioxide  total sulfur dioxide   density        pH  sulphates  \\\n",
      "0            -0.561868              0.016165  2.148316 -0.395969  -0.520193   \n",
      "1            -1.040009             -0.926496  1.406296 -0.979104  -0.166115   \n",
      "2            -1.040009             -0.987313 -0.077742  2.066156  -0.697233   \n",
      "3             1.733209              0.046573  0.833882  0.446337   1.191186   \n",
      "4            -0.944381             -1.078538  1.151890  1.094265  -0.992298   \n",
      "\n",
      "    alcohol  \n",
      "0 -1.335715  \n",
      "1 -1.898919  \n",
      "2  0.260028  \n",
      "3 -0.490910  \n",
      "4  0.541630  \n"
     ]
    }
   ],
   "source": [
    "from sklearn.preprocessing import StandardScaler\n",
    "\n",
    "scaler_std = StandardScaler()\n",
    "X_standardized = scaler_std.fit_transform(X)\n",
    "\n",
    "df_standardized = pd.DataFrame(X_standardized, columns=X.columns)\n",
    "print(\"\\n[4.2] Standardized Data (mean≈0, std≈1):\")\n",
    "print(df_standardized.head())\n"
   ]
  },
  {
   "cell_type": "markdown",
   "id": "91be6042",
   "metadata": {},
   "source": [
    "→ Sau khi chuẩn hóa, mỗi cột có mean≈0 và std≈1."
   ]
  },
  {
   "cell_type": "markdown",
   "id": "2d0a7d13",
   "metadata": {},
   "source": [
    "Bình thường hóa dữ liệu (Normalize Data – theo hàng)"
   ]
  },
  {
   "cell_type": "code",
   "execution_count": 7,
   "id": "d2a2c804",
   "metadata": {},
   "outputs": [
    {
     "name": "stdout",
     "output_type": "stream",
     "text": [
      "\n",
      "[4.3] Normalized Data (L2=1 cho mỗi hàng):\n",
      "   fixed acidity  volatile acidity  citric acid  residual sugar  chlorides  \\\n",
      "0       0.230072          0.011504     0.013090        0.043634   0.001468   \n",
      "1       0.476601          0.027955     0.022455        0.096237   0.009165   \n",
      "2       0.359296          0.057536     0.000000        0.206353   0.004710   \n",
      "3       0.171393          0.007251     0.006922        0.024720   0.002390   \n",
      "4       0.429846          0.052824     0.001036        0.176082   0.004350   \n",
      "\n",
      "   free sulfur dioxide  total sulfur dioxide   density        pH  sulphates  \\\n",
      "0             0.198338              0.932190  0.019850  0.064460   0.011305   \n",
      "1             0.229135              0.733233  0.045800  0.144813   0.028871   \n",
      "2             0.242768              0.679750  0.048388  0.176249   0.026219   \n",
      "3             0.560323              0.791045  0.016452  0.055703   0.014173   \n",
      "4             0.310732              0.569676  0.051733  0.180225   0.025376   \n",
      "\n",
      "    alcohol  \n",
      "0  0.178504  \n",
      "1  0.384947  \n",
      "2  0.519523  \n",
      "3  0.163153  \n",
      "4  0.569676  \n"
     ]
    }
   ],
   "source": [
    "from sklearn.preprocessing import Normalizer\n",
    "\n",
    "normalizer = Normalizer(norm='l2')\n",
    "X_normalized = normalizer.fit_transform(X)\n",
    "\n",
    "df_normalized = pd.DataFrame(X_normalized, columns=X.columns)\n",
    "print(\"\\n[4.3] Normalized Data (L2=1 cho mỗi hàng):\")\n",
    "print(df_normalized.head())\n"
   ]
  },
  {
   "cell_type": "markdown",
   "id": "fd2aabee",
   "metadata": {},
   "source": [
    "→ Mỗi hàng (mẫu) được đưa về độ dài vector = 1."
   ]
  },
  {
   "cell_type": "markdown",
   "id": "7b972fc3",
   "metadata": {},
   "source": [
    "4.4 Số hóa dữ liệu (Digitalization – Label/OneHot Encoding)"
   ]
  },
  {
   "cell_type": "code",
   "execution_count": 6,
   "id": "3197e05d",
   "metadata": {},
   "outputs": [
    {
     "name": "stdout",
     "output_type": "stream",
     "text": [
      "\n",
      "Không có cột phân loại để số hóa trong file wine.csv.\n"
     ]
    }
   ],
   "source": [
    "from sklearn.preprocessing import LabelEncoder, OneHotEncoder\n",
    "import numpy as np\n",
    "\n",
    "# Nếu có cột phân loại, ví dụ 'Class'\n",
    "if 'Class' in duLieu.columns:\n",
    "    y = duLieu['Class']\n",
    "\n",
    "    # Label Encoding\n",
    "    le = LabelEncoder()\n",
    "    y_label = le.fit_transform(y)\n",
    "    print(\"\\n[4.4] LabelEncoder:\")\n",
    "    print(y_label[:10])\n",
    "\n",
    "    # One-Hot Encoding\n",
    "    ohe = OneHotEncoder(sparse_output=False)\n",
    "    y_onehot = ohe.fit_transform(np.array(y_label).reshape(-1,1))\n",
    "    print(\"\\n[4.4] OneHotEncoder (first 5 rows):\")\n",
    "    print(y_onehot[:5])\n",
    "else:\n",
    "    print(\"\\nKhông có cột phân loại để số hóa trong file wine.csv.\")\n"
   ]
  },
  {
   "cell_type": "code",
   "execution_count": 9,
   "id": "b1f61339",
   "metadata": {},
   "outputs": [
    {
     "name": "stdout",
     "output_type": "stream",
     "text": [
      "5 dòng đầu:\n",
      "   fixed acidity  volatile acidity  citric acid  residual sugar  chlorides  \\\n",
      "0           11.6             0.580         0.66            2.20      0.074   \n",
      "1           10.4             0.610         0.49            2.10      0.200   \n",
      "2            7.4             1.185         0.00            4.25      0.097   \n",
      "3           10.4             0.440         0.42            1.50      0.145   \n",
      "4            8.3             1.020         0.02            3.40      0.084   \n",
      "\n",
      "   free sulfur dioxide  total sulfur dioxide  density    pH  sulphates  \\\n",
      "0                   10                    47  1.00080  3.25       0.57   \n",
      "1                    5                    16  0.99940  3.16       0.63   \n",
      "2                    5                    14  0.99660  3.63       0.54   \n",
      "3                   34                    48  0.99832  3.38       0.86   \n",
      "4                    6                    11  0.99892  3.48       0.49   \n",
      "\n",
      "   alcohol   class  \n",
      "0      9.0  Loai 2  \n",
      "1      8.4  Loai 2  \n",
      "2     10.7  Loai 2  \n",
      "3      9.9  Loai 3  \n",
      "4     11.0  Loai 2  \n",
      "\n",
      "[4.1] Sau khi Rescale (MinMax):\n",
      "                      min  max\n",
      "fixed acidity         0.0  1.0\n",
      "volatile acidity      0.0  1.0\n",
      "citric acid           0.0  1.0\n",
      "residual sugar        0.0  1.0\n",
      "chlorides             0.0  1.0\n",
      "free sulfur dioxide   0.0  1.0\n",
      "total sulfur dioxide  0.0  1.0\n",
      "density               0.0  1.0\n",
      "pH                    0.0  1.0\n",
      "sulphates             0.0  1.0\n",
      "alcohol               0.0  1.0\n",
      "\n",
      "[4.2] Sau khi Standardize (Z-score):\n",
      "                              mean       std\n",
      "fixed acidity         3.554936e-16  1.000313\n",
      "volatile acidity      1.599721e-16  1.000313\n",
      "citric acid          -7.109871e-17  1.000313\n",
      "residual sugar       -1.222009e-16  1.000313\n",
      "chlorides             3.643809e-16  1.000313\n",
      "free sulfur dioxide   6.665504e-17  1.000313\n",
      "total sulfur dioxide -1.777468e-17  1.000313\n",
      "density               2.412024e-14  1.000313\n",
      "pH                   -3.110569e-17  1.000313\n",
      "sulphates            -6.398884e-16  1.000313\n",
      "alcohol               1.066481e-16  1.000313\n",
      "\n",
      "[4.3] Sau khi Normalize (L2=1 cho mỗi hàng):\n",
      "   fixed acidity  volatile acidity  citric acid  residual sugar  chlorides\n",
      "0       0.230072          0.011504     0.013090        0.043634   0.001468\n",
      "1       0.476601          0.027955     0.022455        0.096237   0.009165\n",
      "2       0.359296          0.057536     0.000000        0.206353   0.004710\n",
      "3       0.171393          0.007251     0.006922        0.024720   0.002390\n",
      "4       0.429846          0.052824     0.001036        0.176082   0.004350\n",
      "\n",
      "[4.4.a] Label Encoding:\n",
      "Class gốc → số: {'Loai 1': np.int64(0), 'Loai 2': np.int64(1), 'Loai 3': np.int64(2), 'Loai 4': np.int64(3), 'Loai 5': np.int64(4)}\n",
      "10 giá trị đầu: [1 1 1 2 1 1 1 3 3 1]\n",
      "\n",
      "[4.4.b] One-Hot Encoding:\n",
      "Kích thước ma trận: (1599, 5)\n",
      "5 hàng đầu:\n",
      " [[0. 1. 0. 0. 0.]\n",
      " [0. 1. 0. 0. 0.]\n",
      " [0. 1. 0. 0. 0.]\n",
      " [0. 0. 1. 0. 0.]\n",
      " [0. 1. 0. 0. 0.]]\n",
      "\n",
      "TÓM TẮT:\n",
      "- 4.1: Rescale → dữ liệu nằm trong [0,1]\n",
      "- 4.2: Standardize → mean≈0, std≈1\n",
      "- 4.3: Normalize → mỗi hàng có độ dài = 1\n",
      "- 4.4: Digitalization → chuyển Class sang số (Label/OneHot)\n"
     ]
    }
   ],
   "source": [
    "# ===============================\n",
    "# CHUẨN HÓA DỮ LIỆU WINE.CSV\n",
    "# ===============================\n",
    "import pandas as pd\n",
    "from sklearn.preprocessing import MinMaxScaler, StandardScaler, Normalizer, LabelEncoder, OneHotEncoder\n",
    "import numpy as np\n",
    "\n",
    "# Đọc dữ liệu\n",
    "duLieu = pd.read_csv('Wine.csv')\n",
    "print(\"5 dòng đầu:\")\n",
    "print(duLieu.head())\n",
    "\n",
    "# -------------------------------\n",
    "# Tách phần đặc trưng và nhãn\n",
    "# -------------------------------\n",
    "X = duLieu.drop('class', axis=1)\n",
    "y = duLieu['class']\n",
    "\n",
    "# ===============================\n",
    "# 4.1. Điều chỉnh tỉ lệ (Rescale Data)\n",
    "# ===============================\n",
    "scaler_minmax = MinMaxScaler(feature_range=(0, 1))\n",
    "X_rescaled = scaler_minmax.fit_transform(X)\n",
    "df_rescaled = pd.DataFrame(X_rescaled, columns=X.columns)\n",
    "print(\"\\n[4.1] Sau khi Rescale (MinMax):\")\n",
    "print(df_rescaled.describe().T[['min', 'max']])\n",
    "\n",
    "# ===============================\n",
    "# 4.2. Chuẩn hóa dữ liệu (Standardize Data)\n",
    "# ===============================\n",
    "scaler_std = StandardScaler()\n",
    "X_standardized = scaler_std.fit_transform(X)\n",
    "df_standardized = pd.DataFrame(X_standardized, columns=X.columns)\n",
    "print(\"\\n[4.2] Sau khi Standardize (Z-score):\")\n",
    "print(df_standardized.describe().T[['mean', 'std']])\n",
    "\n",
    "# ===============================\n",
    "# 4.3. Bình thường hóa dữ liệu (Normalize Data)\n",
    "# ===============================\n",
    "normalizer = Normalizer(norm='l2')\n",
    "X_normalized = normalizer.fit_transform(X)\n",
    "df_normalized = pd.DataFrame(X_normalized, columns=X.columns)\n",
    "print(\"\\n[4.3] Sau khi Normalize (L2=1 cho mỗi hàng):\")\n",
    "print(df_normalized.iloc[:5, :5])  # in 5 cột đầu 5 dòng đầu\n",
    "\n",
    "# ===============================\n",
    "# 4.4. Số hóa dữ liệu (Digitalization)\n",
    "# ===============================\n",
    "# a) Label Encoding\n",
    "le = LabelEncoder()\n",
    "y_label = le.fit_transform(y)\n",
    "print(\"\\n[4.4.a] Label Encoding:\")\n",
    "print(\"Class gốc → số:\", dict(zip(le.classes_, le.transform(le.classes_))))\n",
    "print(\"10 giá trị đầu:\", y_label[:10])\n",
    "\n",
    "# b) One-Hot Encoding\n",
    "ohe = OneHotEncoder(sparse_output=False)\n",
    "y_onehot = ohe.fit_transform(y_label.reshape(-1, 1))\n",
    "print(\"\\n[4.4.b] One-Hot Encoding:\")\n",
    "print(\"Kích thước ma trận:\", y_onehot.shape)\n",
    "print(\"5 hàng đầu:\\n\", y_onehot[:5])\n",
    "\n",
    "# ===============================\n",
    "# Tóm tắt\n",
    "# ===============================\n",
    "print(\"\\nTÓM TẮT:\")\n",
    "print(\"- 4.1: Rescale → dữ liệu nằm trong [0,1]\")\n",
    "print(\"- 4.2: Standardize → mean≈0, std≈1\")\n",
    "print(\"- 4.3: Normalize → mỗi hàng có độ dài = 1\")\n",
    "print(\"- 4.4: Digitalization → chuyển Class sang số (Label/OneHot)\")\n"
   ]
  }
 ],
 "metadata": {
  "kernelspec": {
   "display_name": "craw2",
   "language": "python",
   "name": "python3"
  },
  "language_info": {
   "codemirror_mode": {
    "name": "ipython",
    "version": 3
   },
   "file_extension": ".py",
   "mimetype": "text/x-python",
   "name": "python",
   "nbconvert_exporter": "python",
   "pygments_lexer": "ipython3",
   "version": "3.11.14"
  }
 },
 "nbformat": 4,
 "nbformat_minor": 5
}
